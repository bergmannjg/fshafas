{
 "cells": [
  {
   "attachments": {},
   "cell_type": "markdown",
   "id": "bec94f5a",
   "metadata": {},
   "source": [
    "# fshafas Examples"
   ]
  },
  {
   "cell_type": "code",
   "execution_count": null,
   "id": "54d5d30d",
   "metadata": {},
   "outputs": [],
   "source": [
    "\n",
    "from typing import (Optional, List, Any, Tuple, TypeVar,\n",
    "                    Tuple, Awaitable, Union, Callable, Dict)\n",
    "import pandas as pd\n",
    "from statistics import mean\n",
    "from functools import reduce\n",
    "from ipyleaflet import (Map, Marker, Icon, MarkerCluster, TileLayer, basemaps, basemap_to_tiles)\n",
    "from fshafas import (HafasClient, Journey, Default_LocationsOptions, Default_JourneysOptions, Default_RadarOptions)\n",
    "from fshafas.profiles import db_profile\n",
    "from util import (to_location, to_locations, to_bounding_box, centroid)"
   ]
  },
  {
   "attachments": {},
   "cell_type": "markdown",
   "id": "65b44ff6",
   "metadata": {},
   "source": [
    "## Locations\n",
    "\n",
    "Retrieve location data of Hannover."
   ]
  },
  {
   "cell_type": "code",
   "execution_count": null,
   "id": "013a0f72",
   "metadata": {},
   "outputs": [],
   "source": [
    "with HafasClient(db_profile) as client:\n",
    "    stops = await client.locations(\"Hannover\", Default_LocationsOptions)\n",
    "    locations = to_locations(stops)\n"
   ]
  },
  {
   "cell_type": "code",
   "execution_count": null,
   "id": "113dbafc",
   "metadata": {},
   "outputs": [],
   "source": [
    "pd.DataFrame((locations), columns=[\"id\", \"name\", \"longitude\", \"latitude\"])"
   ]
  },
  {
   "attachments": {},
   "cell_type": "markdown",
   "id": "27f0863c",
   "metadata": {},
   "source": [
    "## Journeys\n",
    "\n",
    "Retrieve current journeys from Hamm to Hamburg."
   ]
  },
  {
   "cell_type": "code",
   "execution_count": null,
   "id": "a15ef6dd",
   "metadata": {},
   "outputs": [],
   "source": [
    "with HafasClient(db_profile) as client:\n",
    "    journeys_result = await client.journeys(\"Hamm\", \"Hamburg\", Default_JourneysOptions)\n",
    "    journeys = journeys_result.journeys"
   ]
  },
  {
   "attachments": {},
   "cell_type": "markdown",
   "id": "c1877c48",
   "metadata": {},
   "source": [
    "Prepare data for DataFrame"
   ]
  },
  {
   "cell_type": "code",
   "execution_count": null,
   "id": "882d6764",
   "metadata": {},
   "outputs": [],
   "source": [
    "def to_legs_of_journey(journey: Journey, idx):\n",
    "    return [dict(\n",
    "                origin = to_location(leg.origin).name, \n",
    "                destination = to_location(leg.destination).name,\n",
    "                departure = leg.departure,\n",
    "                arrival = leg.arrival,\n",
    "                id = idx,\n",
    "                price = journey.price.amount if journey.price is not None else 0)\n",
    "            for leg in journey.legs]\n",
    "\n",
    "def reducer(acc: Tuple[List[Any], int], journey: Journey):\n",
    "    return [acc[0] + to_legs_of_journey(journey, acc[1]), acc[1] + 1]\n",
    "\n",
    "legs, _ = reduce(reducer, journeys, ([], 0))\n"
   ]
  },
  {
   "cell_type": "code",
   "execution_count": null,
   "id": "f733901e",
   "metadata": {},
   "outputs": [],
   "source": [
    "tuples = map(lambda l: (l[\"id\"], l[\"price\"], l[\"origin\"]), legs)\n",
    "index = pd.MultiIndex.from_tuples(tuples, names = [\"id\", \"price\", \"origin\"])\n",
    "\n",
    "pd.DataFrame(legs, columns = [\"destination\",\n",
    "             \"departure\", \"arrival\"], index = index)\n"
   ]
  },
  {
   "attachments": {},
   "cell_type": "markdown",
   "id": "9b6d197d",
   "metadata": {},
   "source": [
    "## Radar\n",
    "\n",
    "Retrieve all trains currently in an area between Münster and Hannover."
   ]
  },
  {
   "cell_type": "code",
   "execution_count": null,
   "id": "71d8c43e",
   "metadata": {},
   "outputs": [],
   "source": [
    "with HafasClient(db_profile) as client:\n",
    "    stops_1 = await client.locations(\"Münster\", Default_LocationsOptions)\n",
    "    stops_2 = await client.locations(\"Hannover\", Default_LocationsOptions)\n",
    "\n",
    "rect = to_bounding_box(stops_1, stops_2)\n",
    "\n",
    "with HafasClient(db_profile) as client:\n",
    "    opt = Default_RadarOptions\n",
    "    opt.duration = 2400\n",
    "    opt.frames = 10\n",
    "    opt.products = client.productsOfMode(db_profile, \"train\")\n",
    "    radar = await client.radar(rect, opt)\n"
   ]
  },
  {
   "cell_type": "code",
   "execution_count": null,
   "id": "9af45f1d",
   "metadata": {},
   "outputs": [],
   "source": [
    "data = [dict(\n",
    "            trip_id = movement.trip_id,\n",
    "            line = movement.line.name,\n",
    "            longitude = movement.location.longitude,\n",
    "            latitude = movement.location.latitude)\n",
    "        for movement in radar.movements]\n",
    "\n",
    "pd.DataFrame(data, columns=[\"trip_id\", \"line\", \"longitude\", \"latitude\"])\n"
   ]
  },
  {
   "attachments": {},
   "cell_type": "markdown",
   "id": "5284004b",
   "metadata": {},
   "source": [
    "Display train positions on a map."
   ]
  },
  {
   "cell_type": "code",
   "execution_count": null,
   "id": "4c8b859a",
   "metadata": {},
   "outputs": [],
   "source": [
    "m = Map(basemap=basemaps.OpenStreetMap.Mapnik, center=centroid(radar.movements, rect), zoom=8)\n",
    "\n",
    "m.add_layer(basemap_to_tiles(basemaps.OpenRailwayMap))\n",
    "\n",
    "icon_url = 'https://raw.githubusercontent.com/Leaflet/Leaflet/main/dist/images/marker-icon.png'\n",
    "icon = Icon(icon_url=icon_url, icon_size = [25, 40], icon_anchor=[22, 94])\n",
    "\n",
    "markers = [Marker(location = (m.location.latitude, m.location.longitude), title = m.line.name,\n",
    "                  icon = icon, draggable = False) for m in radar.movements]\n",
    "\n",
    "marker_cluster = MarkerCluster(markers=markers)\n",
    "\n",
    "m.add_layer(marker_cluster)\n",
    "\n",
    "m\n"
   ]
  }
 ],
 "metadata": {
  "kernelspec": {
   "display_name": "Python 3.8.12 ('base')",
   "language": "python",
   "name": "python3"
  },
  "language_info": {
   "codemirror_mode": {
    "name": "ipython",
    "version": 3
   },
   "file_extension": ".py",
   "mimetype": "text/x-python",
   "name": "python",
   "nbconvert_exporter": "python",
   "pygments_lexer": "ipython3",
   "version": "3.9.5"
  },
  "vscode": {
   "interpreter": {
    "hash": "b9f7720aecac389c61bdfa3e5bff160fed76f08aaf9ad479ca51312089775b47"
   }
  }
 },
 "nbformat": 4,
 "nbformat_minor": 5
}
