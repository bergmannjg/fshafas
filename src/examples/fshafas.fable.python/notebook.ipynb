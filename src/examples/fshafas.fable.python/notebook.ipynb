{
 "cells": [
  {
   "cell_type": "markdown",
   "id": "bec94f5a",
   "metadata": {},
   "source": [
    "# fshafas Examples"
   ]
  },
  {
   "cell_type": "code",
   "execution_count": null,
   "id": "54d5d30d",
   "metadata": {},
   "outputs": [],
   "source": [
    "import pandas as pd\n",
    "from statistics import mean\n",
    "from functools import reduce\n",
    "from ipyleaflet import Map, Marker, Icon, MarkerCluster\n",
    "from fshafas.fable_modules.fs_hafas_profiles_python.db.profile import profile as db_profile\n",
    "from fshafas.fable_modules.fs_hafas_python.lib.transformations import (\n",
    "    Default_LocationsOptions, Default_JourneysOptions, Default_RadarOptions)\n",
    "from fshafas.fable_modules.fs_hafas_python.types_hafas_client import (\n",
    "    Station, Stop, Location, Leg, Journeys, Journey, BoundingBox, Line, Movement)\n",
    "from fshafas.hafas_client import HafasClient\n",
    "from util import (to_locations, to_name, to_dicts, to_dicts_of_legs, transform_name_of_line, flatten_location, centroid, to_bounding_box)\n"
   ]
  },
  {
   "cell_type": "markdown",
   "id": "65b44ff6",
   "metadata": {},
   "source": [
    "## Locations\n",
    "\n",
    "Retrieve location data of Hannover."
   ]
  },
  {
   "cell_type": "code",
   "execution_count": null,
   "id": "013a0f72",
   "metadata": {},
   "outputs": [],
   "source": [
    "with HafasClient(db_profile) as client:\n",
    "    stops = await client.locations(\"Hannover\", Default_LocationsOptions)\n",
    "    locations = to_locations(stops)\n"
   ]
  },
  {
   "cell_type": "code",
   "execution_count": null,
   "id": "113dbafc",
   "metadata": {},
   "outputs": [],
   "source": [
    "pd.DataFrame(to_dicts(locations), columns=[\"id\", \"name\", \"longitude\", \"latitude\"])"
   ]
  },
  {
   "cell_type": "markdown",
   "id": "27f0863c",
   "metadata": {},
   "source": [
    "## Journeys\n",
    "\n",
    "Retrieve current journeys from Hamm to Hamburg."
   ]
  },
  {
   "cell_type": "code",
   "execution_count": null,
   "id": "a15ef6dd",
   "metadata": {},
   "outputs": [],
   "source": [
    "with HafasClient(db_profile) as client:\n",
    "    journeys_result: Journeys = await client.journeys(\"Hamm\", \"Hamburg\", Default_JourneysOptions)\n",
    "    journeys = journeys_result.journeys"
   ]
  },
  {
   "cell_type": "code",
   "execution_count": null,
   "id": "f733901e",
   "metadata": {},
   "outputs": [],
   "source": [
    "legs, _ = reduce(lambda acc, journey: [acc[0] +\n",
    "                                        to_dicts_of_legs(journey, acc[1]), acc[1] + 1], journeys, ([], 0))\n",
    "tuples = map(lambda l: (l[\"id\"], l[\"price\"], l[\"origin\"]), legs)\n",
    "index = pd.MultiIndex.from_tuples(tuples, names=[\"id\", \"price\", \"origin\"])\n",
    "\n",
    "pd.DataFrame(legs, columns=[\"destination\",\n",
    "             \"departure\", \"arrival\"], index=index)\n"
   ]
  },
  {
   "cell_type": "markdown",
   "id": "9b6d197d",
   "metadata": {},
   "source": [
    "## Radar\n",
    "\n",
    "Retrieve all trains currently in an area between Münster and Hannover."
   ]
  },
  {
   "cell_type": "code",
   "execution_count": null,
   "id": "71d8c43e",
   "metadata": {},
   "outputs": [],
   "source": [
    "with HafasClient(db_profile) as client:\n",
    "    stops_1 = await client.locations(\"Münster\", Default_LocationsOptions)\n",
    "\n",
    "    stops_2 = await client.locations(\"Hannover\", Default_LocationsOptions)\n",
    "\n",
    "rect = to_bounding_box(stops_1, stops_2)\n",
    "\n",
    "with HafasClient(db_profile) as client:\n",
    "    opt = Default_RadarOptions\n",
    "    opt.duration = 2400\n",
    "    opt.frames = 10\n",
    "    opt.products = client.productsOfMode(db_profile, \"train\")\n",
    "    movements = await client.radar(rect, opt)\n"
   ]
  },
  {
   "cell_type": "code",
   "execution_count": null,
   "id": "9af45f1d",
   "metadata": {},
   "outputs": [],
   "source": [
    "pd.DataFrame(to_dicts(movements, transform=transform_name_of_line,\n",
    "             flatten=flatten_location), columns=[\"trip_id\", \"line\", \"longitude\", \"latitude\"])\n"
   ]
  },
  {
   "cell_type": "markdown",
   "id": "5284004b",
   "metadata": {},
   "source": [
    "Display train positions on a map."
   ]
  },
  {
   "cell_type": "code",
   "execution_count": null,
   "id": "4c8b859a",
   "metadata": {},
   "outputs": [],
   "source": [
    "m = Map(center=centroid(movements, rect), zoom=8)\n",
    "\n",
    "icon_url = 'https://raw.githubusercontent.com/Leaflet/Leaflet/main/dist/images/marker-icon.png'\n",
    "icon = Icon(icon_url=icon_url, icon_size=[25, 40], icon_anchor=[22, 94])\n",
    "\n",
    "markers = [Marker(location=(m.location.latitude, m.location.longitude), title=to_name(m.line),\n",
    "                  icon=icon, draggable=False) for m in movements]\n",
    "\n",
    "marker_cluster = MarkerCluster(markers=markers)\n",
    "\n",
    "m.add_layer(marker_cluster)\n",
    "\n",
    "m\n"
   ]
  }
 ],
 "metadata": {
  "kernelspec": {
   "display_name": "Python 3 (ipykernel)",
   "language": "python",
   "name": "python3"
  },
  "language_info": {
   "codemirror_mode": {
    "name": "ipython",
    "version": 3
   },
   "file_extension": ".py",
   "mimetype": "text/x-python",
   "name": "python",
   "nbconvert_exporter": "python",
   "pygments_lexer": "ipython3",
   "version": "3.8.12"
  }
 },
 "nbformat": 4,
 "nbformat_minor": 5
}
